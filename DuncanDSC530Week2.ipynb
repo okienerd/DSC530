{
 "cells": [
  {
   "cell_type": "code",
   "execution_count": 6,
   "id": "138bcd29-ed10-486e-a986-285f64d26bf4",
   "metadata": {},
   "outputs": [
    {
     "name": "stdout",
     "output_type": "stream",
     "text": [
      "Hello World, my name is Jimmy Duncan\n"
     ]
    }
   ],
   "source": [
    "print (\"Hello World, my name is Jimmy Duncan\")"
   ]
  },
  {
   "cell_type": "code",
   "execution_count": 18,
   "id": "d4d39068-d348-45ab-ac83-c7968379098a",
   "metadata": {},
   "outputs": [],
   "source": [
    "add = 2+2"
   ]
  },
  {
   "cell_type": "code",
   "execution_count": 22,
   "id": "9faac0ee-69ce-4527-bbb9-36fe8497e6c8",
   "metadata": {},
   "outputs": [
    {
     "name": "stdout",
     "output_type": "stream",
     "text": [
      "4\n"
     ]
    }
   ],
   "source": [
    "print (add)"
   ]
  },
  {
   "cell_type": "code",
   "execution_count": 24,
   "id": "8a2cf83a-ec42-4cf9-8769-0bc0bdd6ec83",
   "metadata": {},
   "outputs": [],
   "source": [
    "subt = 56-43"
   ]
  },
  {
   "cell_type": "code",
   "execution_count": 26,
   "id": "51d6cad9-77e7-4bdf-9639-bbd7dede154a",
   "metadata": {},
   "outputs": [
    {
     "name": "stdout",
     "output_type": "stream",
     "text": [
      "13\n"
     ]
    }
   ],
   "source": [
    "print (subt)"
   ]
  },
  {
   "cell_type": "code",
   "execution_count": 28,
   "id": "99753ff2-760b-4384-a7fb-b284c18c2ced",
   "metadata": {},
   "outputs": [],
   "source": [
    "multp = 43*32"
   ]
  },
  {
   "cell_type": "code",
   "execution_count": 30,
   "id": "4a83001f-0355-4142-8654-0dd6d090204d",
   "metadata": {},
   "outputs": [
    {
     "name": "stdout",
     "output_type": "stream",
     "text": [
      "1376\n"
     ]
    }
   ],
   "source": [
    "print(multp)"
   ]
  },
  {
   "cell_type": "code",
   "execution_count": 32,
   "id": "0d6ece21-0585-4054-8304-64cb29e593fa",
   "metadata": {},
   "outputs": [],
   "source": [
    "div = 4500/100"
   ]
  },
  {
   "cell_type": "code",
   "execution_count": 34,
   "id": "2170a3b1-fcc3-4e69-9088-e645c70c24d9",
   "metadata": {},
   "outputs": [
    {
     "name": "stdout",
     "output_type": "stream",
     "text": [
      "45.0\n"
     ]
    }
   ],
   "source": [
    "print (div)"
   ]
  },
  {
   "cell_type": "code",
   "execution_count": 56,
   "id": "35be2132-2e38-48de-93a0-1d1573fbf7f0",
   "metadata": {},
   "outputs": [],
   "source": [
    "str1 = \"Jupyter Notebook\""
   ]
  },
  {
   "cell_type": "code",
   "execution_count": 58,
   "id": "679c36ec-7cb3-47c6-81ee-8d19b9a78365",
   "metadata": {},
   "outputs": [],
   "source": [
    "str2 = \" is pretty cool\""
   ]
  },
  {
   "cell_type": "code",
   "execution_count": 60,
   "id": "9591d741-308e-4799-b4e5-1045802480bb",
   "metadata": {},
   "outputs": [],
   "source": [
    "conc = str1 + str2"
   ]
  },
  {
   "cell_type": "code",
   "execution_count": 62,
   "id": "a8d9ec05-ebc6-4552-ad16-2d942d31519b",
   "metadata": {},
   "outputs": [
    {
     "name": "stdout",
     "output_type": "stream",
     "text": [
      "Jupyter Notebook is pretty cool\n"
     ]
    }
   ],
   "source": [
    "print (conc)"
   ]
  },
  {
   "cell_type": "code",
   "execution_count": 64,
   "id": "001ee931-45d6-4ac6-aac5-4e8469fd14be",
   "metadata": {},
   "outputs": [],
   "source": [
    "mylist = [\"peaches\", \"cream\", \"Hall\", \"Oates\"]"
   ]
  },
  {
   "cell_type": "code",
   "execution_count": 68,
   "id": "6ced6208-39e9-4f26-b121-6dc246a9b932",
   "metadata": {},
   "outputs": [],
   "source": [
    "mylist.append (\"Cloverfield\")"
   ]
  },
  {
   "cell_type": "code",
   "execution_count": 75,
   "id": "f8e8d889-6f0a-4ca6-b6bc-608ae287ff06",
   "metadata": {},
   "outputs": [],
   "source": [
    "mytuple = (42, \"lovely\", \"cat\", 109)"
   ]
  }
 ],
 "metadata": {
  "kernelspec": {
   "display_name": "Python 3 (ipykernel)",
   "language": "python",
   "name": "python3"
  },
  "language_info": {
   "codemirror_mode": {
    "name": "ipython",
    "version": 3
   },
   "file_extension": ".py",
   "mimetype": "text/x-python",
   "name": "python",
   "nbconvert_exporter": "python",
   "pygments_lexer": "ipython3",
   "version": "3.12.7"
  }
 },
 "nbformat": 4,
 "nbformat_minor": 5
}
